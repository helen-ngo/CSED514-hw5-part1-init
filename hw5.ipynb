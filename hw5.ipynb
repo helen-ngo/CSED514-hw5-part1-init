{
    "metadata": {
        "kernelspec": {
            "name": "python3",
            "display_name": "Python 3",
            "language": "python"
        },
        "language_info": {
            "name": "python",
            "version": "3.8.5",
            "mimetype": "text/x-python",
            "codemirror_mode": {
                "name": "ipython",
                "version": 3
            },
            "pygments_lexer": "ipython3",
            "nbconvert_exporter": "python",
            "file_extension": ".py"
        }
    },
    "nbformat_minor": 2,
    "nbformat": 4,
    "cells": [
        {
            "cell_type": "code",
            "source": [
                "from vaccine_patient import VaccinePatient\n",
                "from sql_connection_manager import SqlConnectionManager\n",
                "from vaccine_caregiver import VaccineCaregiver\n",
                "from enums import *\n",
                "from utils import *\n",
                "from COVID19_vaccine import COVID19Vaccine\n",
                "from vaccine_patient import VaccinePatient\n",
                "import os"
            ],
            "metadata": {
                "azdata_cell_guid": "ea82bf04-32c1-467b-b82e-72ab2a635adf"
            },
            "outputs": [],
            "execution_count": 26
        },
        {
            "cell_type": "code",
            "source": [
                "class Vaccine:\n",
                "\n",
                "    def __init__(self, patient_id, vaccine_name):\n",
                "        self.patient_id = patient_id\n",
                "        self.vaccine_name = vaccine_name\n",
                "        self.intial_dose_date = None\n",
                "        self.appointments = []    # creates a new empty list for each dog\n",
                "\n",
                "    def add_appointment(self, slot_id, appointment_id):\n",
                "        self.appointments.append((slot_id, appointment_id))"
            ],
            "metadata": {
                "azdata_cell_guid": "ac176cbf-84ac-434b-96cb-96c80ce063f7"
            },
            "outputs": [],
            "execution_count": 36
        },
        {
            "cell_type": "code",
            "source": [
                "d = Vaccine(0, \"fg\")"
            ],
            "metadata": {
                "azdata_cell_guid": "f8a377d2-d71c-4ac3-a20e-892a7f58fd44"
            },
            "outputs": [],
            "execution_count": 37
        },
        {
            "cell_type": "code",
            "source": [
                "d.add_appointment(123,456)"
            ],
            "metadata": {
                "azdata_cell_guid": "ccad0ab9-caed-47c1-8acd-f6e39226d33e"
            },
            "outputs": [],
            "execution_count": 38
        },
        {
            "cell_type": "code",
            "source": [
                "d.appointments[0][0]"
            ],
            "metadata": {
                "azdata_cell_guid": "372b70e1-3a5d-40b1-9725-6637173c6b32"
            },
            "outputs": [
                {
                    "data": {
                        "text/plain": "123"
                    },
                    "metadata": {},
                    "execution_count": 43,
                    "output_type": "execute_result"
                }
            ],
            "execution_count": 43
        }
    ]
}